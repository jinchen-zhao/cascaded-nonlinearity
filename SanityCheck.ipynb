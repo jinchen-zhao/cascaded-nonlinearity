{
 "cells": [
  {
   "cell_type": "markdown",
   "id": "cdbccd53",
   "metadata": {},
   "source": [
    "# Sanity check"
   ]
  },
  {
   "cell_type": "markdown",
   "id": "12fa3e5f",
   "metadata": {},
   "source": [
    "In this note book we will do some sanity check with Boyd's and Argwal's textbooks to make sure our simulation is correct."
   ]
  },
  {
   "cell_type": "code",
   "execution_count": 1,
   "id": "58501213",
   "metadata": {},
   "outputs": [],
   "source": [
    "import numpy as np\n",
    "import matplotlib.pyplot as plt"
   ]
  },
  {
   "cell_type": "markdown",
   "id": "6499756c",
   "metadata": {},
   "source": [
    "### SHG"
   ]
  },
  {
   "cell_type": "markdown",
   "id": "756d31f2",
   "metadata": {},
   "source": [
    "By Boyd's textbook Equation (2.7.43), the SHG efficiency should be `(length/nlLength)**2` for small pump (or large `nlLength`), so we can use this equation as a sanity check."
   ]
  },
  {
   "cell_type": "code",
   "execution_count": 2,
   "id": "0823692b",
   "metadata": {},
   "outputs": [],
   "source": [
    "def SHG_efficiency(beta21 = 0, beta22 = 0, dbeta0 = 0, length = 1, nlLength = 1e1, \n",
    "                   tMax = 15, tPrecision = 2**10, zPrecision = 2000):\n",
    "    \"\"\"\n",
    "    Calculate the SHG efficiency\n",
    "    \n",
    "    Arguments:\n",
    "    beta21:      second order dispersion of pump, set to 1 since we are working in unit of dispersion length\n",
    "    beta22:      second order dispersion of second harmonic\n",
    "    dbeta0:      phase mismatch\n",
    "\n",
    "    length:      length of crystal, in unit of dispersion length\n",
    "    nlLength:    nonlinear length\n",
    "    \n",
    "    tMax:        pulse width\n",
    "    tPrecision:  precision of time axis\n",
    "    zPrecision:  precision of position axis\n",
    "    \n",
    "    Return: SHG efficiency\n",
    "    \n",
    "    \"\"\"\n",
    "    \n",
    "    # Initialize time and position axes\n",
    "    tau   = (2 * tMax / tPrecision) * np.arange(-tPrecision / 2, tPrecision / 2)\n",
    "    omega = (-np.pi / tMax) * np.arange(-tPrecision / 2, tPrecision / 2)\n",
    "    dz = length / zPrecision\n",
    "\n",
    "    # Initialize fields\n",
    "    pumpTemp = 1/np.cosh(tau)**2\n",
    "    signalTemp = pumpTemp * 0\n",
    "    \n",
    "    u1 = pumpTemp.copy()\n",
    "    u2 = signalTemp.copy()\n",
    "    total_energy = np.sum(np.abs(pumpTemp)**2)\n",
    "\n",
    "    # Dispersion operator\n",
    "    linear_operator1 = np.fft.fftshift(np.exp(0.5j * beta21 * omega**2 * dz))\n",
    "    linear_operator2 = np.fft.fftshift(np.exp(0.5j * beta22 * omega**2 * dz))\n",
    "  \n",
    "    # Propagation loop\n",
    "    for i in range(zPrecision):\n",
    "        # Linear step (Fourier domain)\n",
    "        u1_hat = np.fft.fft(u1) * linear_operator1\n",
    "        u2_hat = np.fft.fft(u2) * linear_operator2\n",
    "        u1 = np.fft.ifft(u1_hat)\n",
    "        u2 = np.fft.ifft(u2_hat)\n",
    "\n",
    "        # Nonlinear step (Time domain)\n",
    "        u1 += dz * (1j / nlLength) * np.conjugate(u1) * u2 * np.exp(-1j * dbeta0 * dz * i)\n",
    "        u2 += dz * (1j / nlLength) * u1**2 * np.exp(1j * dbeta0 * dz * i)\n",
    "\n",
    "    # Calculate efficiency\n",
    "    eff  = np.sum(np.abs(u2)**2) / total_energy\n",
    "    \n",
    "    return eff"
   ]
  },
  {
   "cell_type": "code",
   "execution_count": 3,
   "id": "5d3bf56b",
   "metadata": {},
   "outputs": [],
   "source": [
    "# Here we are dealing with pump simulation so we need to add a correction factor,\n",
    "# For sech^2 pulses this factor is derived in https://doi.org/10.1364/OL.22.000013\n",
    "sech_factor = 0.668\n",
    "\n",
    "# List of nonlinear lenth\n",
    "nlLengthList   = np.arange(2,10, 0.5)\n",
    "\n",
    "# Calculate simulation and theoretical efficiencies\n",
    "eff_simulation = np.array([SHG_efficiency(nlLength=nl) for nl in nlLengthList])\n",
    "eff_theory     = np.array([(1/nl)**2*sech_factor for nl in nlLengthList])"
   ]
  },
  {
   "cell_type": "code",
   "execution_count": 4,
   "id": "ded45d8f",
   "metadata": {},
   "outputs": [
    {
     "data": {
      "image/png": "[encoded data removed]",
      "text/plain": [
       "<Figure size 432x288 with 1 Axes>"
      ]
     },
     "metadata": {
      "needs_background": "light"
     },
     "output_type": "display_data"
    }
   ],
   "source": [
    "# Plot the simulation efficiency v.s. theoretical efficiency\n",
    "\n",
    "plt.scatter(1/(nlLengthList)**2, eff_simulation*100, label = \"simulation\")\n",
    "plt.scatter(1/(nlLengthList)**2, eff_theory*100, label = \"theory\")\n",
    "\n",
    "plt.ylabel(\"SHG efficiency (%)\", fontsize=15)\n",
    "plt.xlabel(\"$1/\\sqrt{L/L_{NL}}$\", fontsize=15)\n",
    "plt.xticks(fontsize=15); plt.yticks(fontsize=15)\n",
    "plt.legend(fontsize=15);"
   ]
  },
  {
   "cell_type": "markdown",
   "id": "87ae9bc2",
   "metadata": {},
   "source": [
    "We can see the simulation and theory fit very well below 10% efficiency, a property also reported in Figure 3 of https://doi.org/10.1364/OL.22.000013. Above 10% the theory fails because of the low pump power assumption."
   ]
  },
  {
   "cell_type": "markdown",
   "id": "48b55678",
   "metadata": {},
   "source": [
    "<img style=\"float:left;margin:0 10px 10px 0\" src=\"https://d3i71xaburhd42.cloudfront.net/d85b8ad747618affd0329e97b5d0fb028b1bb0c3/3-Figure3-1.png\" width=\"400\"/>\n"
   ]
  },
  {
   "cell_type": "markdown",
   "id": "af4280af",
   "metadata": {},
   "source": [
    "### Kerr"
   ]
  },
  {
   "cell_type": "markdown",
   "id": "33429828",
   "metadata": {},
   "source": [
    "The sanity check for Kerr nonlinearity is rather simple: We can simply check that we can get the fundamental soliton (Argwal's textbook)"
   ]
  },
  {
   "cell_type": "code",
   "execution_count": 5,
   "id": "a02ba184",
   "metadata": {},
   "outputs": [],
   "source": [
    "from CascadeNL import Kerr"
   ]
  },
  {
   "cell_type": "code",
   "execution_count": 6,
   "id": "68eec7ca",
   "metadata": {},
   "outputs": [
    {
     "data": {
      "image/png": "[encoded data removed]",
      "text/plain": [
       "<Figure size 432x180 with 2 Axes>"
      ]
     },
     "metadata": {
      "needs_background": "light"
     },
     "output_type": "display_data"
    }
   ],
   "source": [
    "Kerr(beta2 = -1, gamma = 1, length = 10, tMax = 36, tPrecision = 2**11, zPrecision = 2000)"
   ]
  }
 ],
 "metadata": {
  "kernelspec": {
   "display_name": "Python 3 (ipykernel)",
   "language": "python",
   "name": "python3"
  },
  "language_info": {
   "codemirror_mode": {
    "name": "ipython",
    "version": 3
   },
   "file_extension": ".py",
   "mimetype": "text/x-python",
   "name": "python",
   "nbconvert_exporter": "python",
   "pygments_lexer": "ipython3",
   "version": "3.9.7"
  }
 },
 "nbformat": 4,
 "nbformat_minor": 5
}
